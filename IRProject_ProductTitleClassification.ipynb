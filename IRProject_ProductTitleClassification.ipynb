{
  "cells": [
    {
      "cell_type": "code",
      "execution_count": 1,
      "metadata": {
        "id": "NaawhgX0ffiH"
      },
      "outputs": [],
      "source": [
        "import numpy as np\n",
        "import pandas as pd\n",
        "from sklearn.feature_extraction.text import TfidfVectorizer, CountVectorizer, HashingVectorizer\n",
        "from sklearn.model_selection import train_test_split\n",
        "from sklearn.preprocessing import StandardScaler, LabelEncoder, PolynomialFeatures\n",
        "from sklearn.svm import LinearSVC\n",
        "from sklearn.model_selection import GridSearchCV\n",
        "from sklearn.metrics import classification_report, confusion_matrix, accuracy_score\n",
        "from nltk.stem import PorterStemmer\n",
        "from sklearn.svm import SVC\n",
        "\n",
        "ps = PorterStemmer()"
      ]
    },
    {
      "cell_type": "code",
      "execution_count": 2,
      "metadata": {
        "colab": {
          "base_uri": "https://localhost:8080/"
        },
        "id": "ehFuD4LFgL_Q",
        "outputId": "6181e162-22ec-4aaf-808e-8cb56d2720bf"
      },
      "outputs": [
        {
          "output_type": "stream",
          "name": "stdout",
          "text": [
            "Drive already mounted at /content/drive; to attempt to forcibly remount, call drive.mount(\"/content/drive\", force_remount=True).\n"
          ]
        }
      ],
      "source": [
        "from google.colab import drive\n",
        "drive.mount('/content/drive')\n"
      ]
    },
    {
      "cell_type": "code",
      "execution_count": 5,
      "metadata": {
        "colab": {
          "base_uri": "https://localhost:8080/"
        },
        "id": "g2UsD22Qivh9",
        "outputId": "5c5c4b9f-a7da-4298-de17-378004b494da"
      },
      "outputs": [
        {
          "output_type": "execute_result",
          "data": {
            "text/plain": [
              "['data_valid.csv', 'data_train.csv', 'project.ipynb']"
            ]
          },
          "metadata": {},
          "execution_count": 5
        }
      ],
      "source": [
        "import os\n",
        "os.chdir(\"drive/My Drive/IR/Project/\")\n",
        "os.getcwd()\n",
        "os.listdir()"
      ]
    },
    {
      "cell_type": "code",
      "execution_count": 6,
      "metadata": {
        "id": "JE-FyXcvffiU"
      },
      "outputs": [],
      "source": [
        "\n",
        "df = pd.read_csv(\"data_train.csv\")\n",
        "texts = (df['title'].apply(str.lower)).to_list()\n",
        "categories = df['category'].to_list()\n"
      ]
    },
    {
      "cell_type": "code",
      "execution_count": 7,
      "metadata": {
        "id": "3YMFehi2BzG5"
      },
      "outputs": [],
      "source": [
        "# Encode labels to integers\n",
        "label_encoder = LabelEncoder()\n",
        "labels = label_encoder.fit_transform(categories)\n",
        "\n",
        "# Binary Vectorization for baseline model\n",
        "vectorizer_baseline = CountVectorizer(binary=True)"
      ]
    },
    {
      "cell_type": "code",
      "execution_count": 8,
      "metadata": {
        "id": "zihouIRgffiY"
      },
      "outputs": [],
      "source": [
        "\n",
        "X_baseline = vectorizer_baseline.fit_transform(texts)\n",
        "\n",
        "# Train-test split\n",
        "X_train_base, X_test_base, y_train_base, y_test_base = train_test_split(X_baseline, labels, test_size=0.2, random_state=42)\n",
        "\n",
        "# Define the parameter grid for C\n",
        "param_grid = {'C': [0.0625, 0.125, 0.25, 0.5, 1]}\n",
        "\n",
        "# GridSearchCV with LinearSVC for baseline model\n",
        "grid_search_base = GridSearchCV(LinearSVC(dual=False), param_grid)\n",
        "grid_search_base.fit(X_train_base, y_train_base)\n",
        "\n",
        "# Best model for baseline\n",
        "best_svm_base = grid_search_base.best_estimator_\n"
      ]
    },
    {
      "cell_type": "markdown",
      "metadata": {
        "id": "SRWBu5qj5y9p"
      },
      "source": [
        "# Stop Word Removal and Stemming"
      ]
    },
    {
      "cell_type": "code",
      "execution_count": 9,
      "metadata": {
        "id": "MKq2kDch6r7u"
      },
      "outputs": [],
      "source": [
        "df = pd.read_csv(\"data_train.csv\")\n",
        "texts = (df['title'].apply(str.lower)).to_list()\n",
        "categories = df['category'].to_list()\n",
        "def stem_text(text):\n",
        "    tokens = text.split()\n",
        "    stemmed_tokens = [ps.stem(token) for token in tokens]\n",
        "    return ' '.join(stemmed_tokens)\n",
        "\n",
        "# Apply the stemming function to the titles\n",
        "texts_stemmed = [stem_text(text) for text in texts]"
      ]
    },
    {
      "cell_type": "code",
      "execution_count": 10,
      "metadata": {
        "colab": {
          "base_uri": "https://localhost:8080/"
        },
        "id": "nQlAVwxV55YW",
        "outputId": "665ae968-7d94-4ffb-f1fb-6c95358f7d48"
      },
      "outputs": [
        {
          "output_type": "stream",
          "name": "stdout",
          "text": [
            "Second Model Accuracy: 0.9298608240319691\n",
            "Second Model Error Rate: 0.07013917596803088\n",
            "Second Model Classification Report:\n",
            "                                       precision    recall  f1-score   support\n",
            "\n",
            "                              Cameras       0.93      0.93      0.93       392\n",
            "                  Computers & Laptops       0.92      0.89      0.90       594\n",
            "                              Fashion       0.95      0.96      0.96      1204\n",
            "                      Health & Beauty       0.92      0.94      0.93       753\n",
            "                        Home & Living       0.90      0.89      0.90      1237\n",
            "                      Home Appliances       0.91      0.88      0.89       293\n",
            "                    Mobiles & Tablets       0.95      0.96      0.96      1431\n",
            "TV, Audio / Video, Gaming & Wearables       0.85      0.85      0.85       474\n",
            "         Watches Sunglasses Jewellery       0.96      0.96      0.96       879\n",
            "\n",
            "                             accuracy                           0.93      7257\n",
            "                            macro avg       0.92      0.92      0.92      7257\n",
            "                         weighted avg       0.93      0.93      0.93      7257\n",
            "\n",
            "Second Model Confusion Matrix:\n",
            "[[ 363    5    1    2    6    2    7    4    2]\n",
            " [   5  527    1    3   13    0   22   23    0]\n",
            " [   0    1 1160   10   16    0    4    1   12]\n",
            " [   0    0   15  710   23    1    2    2    0]\n",
            " [  10    4   29   39 1100   23    8   15    9]\n",
            " [   0    1    0    2   25  259    3    2    1]\n",
            " [   7   17    2    1    6    0 1377   21    0]\n",
            " [   6   19    1    1   12    1   20  404   10]\n",
            " [   0    1    8    4   15    0    0    3  848]]\n"
          ]
        }
      ],
      "source": [
        "# Binary Vectorization for the second model with stop-word removal\n",
        "vectorizer_second = CountVectorizer(binary=True, stop_words='english')\n",
        "X_second = vectorizer_second.fit_transform(texts_stemmed)\n",
        "\n",
        "# Train-test split\n",
        "X_train_second, X_test_second, y_train_second, y_test_second = train_test_split(X_second, labels, test_size=0.2, random_state=42)\n",
        "\n",
        "# GridSearchCV with LinearSVC for the second model\n",
        "grid_search_second = GridSearchCV(LinearSVC(dual=False), param_grid)\n",
        "grid_search_second.fit(X_train_second, y_train_second)\n",
        "\n",
        "# Best model for the second model\n",
        "best_svm_stemmed = grid_search_second.best_estimator_\n",
        "\n",
        "# Evaluate the second model\n",
        "y_pred_second = best_svm_stemmed.predict(X_test_second)\n",
        "accuracy_second = accuracy_score(y_test_second, y_pred_second)\n",
        "error_rate_second = 1 - accuracy_second\n",
        "print(f'Second Model Accuracy: {accuracy_second}')\n",
        "print(f'Second Model Error Rate: {error_rate_second}')\n",
        "\n",
        "# Calculate the relative error ratio\n",
        "# relative_error_ratio = error_rate_second / error_rate_base\n",
        "# print(f'Relative Error Ratio (Second Model / Baseline): {relative_error_ratio}')\n",
        "\n",
        "# # Additional evaluation metrics\n",
        "# print(\"Baseline Model Classification Report:\")\n",
        "# print(classification_report(y_test_base, y_pred_base, target_names=label_encoder.classes_))\n",
        "# print(\"Baseline Model Confusion Matrix:\")\n",
        "# print(confusion_matrix(y_test_base, y_pred_base))\n",
        "\n",
        "print(\"Second Model Classification Report:\")\n",
        "second = classification_report(y_test_second, y_pred_second, target_names=label_encoder.classes_)\n",
        "print(second)\n",
        "print(\"Second Model Confusion Matrix:\")\n",
        "print(confusion_matrix(y_test_second, y_pred_second))"
      ]
    },
    {
      "cell_type": "code",
      "execution_count": 11,
      "metadata": {
        "id": "kWHuY6lhmsNC"
      },
      "outputs": [],
      "source": [
        "df = pd.read_csv(\"data_train.csv\")\n",
        "texts = (df['title'].apply(str.lower)).to_list()\n",
        "categories = df['category'].to_list()"
      ]
    },
    {
      "cell_type": "markdown",
      "metadata": {
        "id": "Z-TJAVJBV1xB"
      },
      "source": [
        "# One-vs-One SVM Model\n"
      ]
    },
    {
      "cell_type": "code",
      "execution_count": 12,
      "metadata": {
        "colab": {
          "base_uri": "https://localhost:8080/"
        },
        "id": "9-CM55gsV0m9",
        "outputId": "1f57b67e-4674-41fe-e5cb-2d280dd1c8fc"
      },
      "outputs": [
        {
          "output_type": "stream",
          "name": "stdout",
          "text": [
            "Fitting 5 folds for each of 1 candidates, totalling 5 fits\n",
            "[CV 1/5] END ..........................C=0.0625;, score=0.656 total time= 2.3min\n",
            "[CV 2/5] END ..........................C=0.0625;, score=0.653 total time= 2.3min\n",
            "[CV 3/5] END ..........................C=0.0625;, score=0.664 total time= 2.3min\n",
            "[CV 4/5] END ..........................C=0.0625;, score=0.650 total time= 2.3min\n",
            "[CV 5/5] END ..........................C=0.0625;, score=0.651 total time= 2.3min\n"
          ]
        }
      ],
      "source": [
        "# Binary Vectorization for One-vs-One model\n",
        "vectorizer_ovo = CountVectorizer(binary=True)\n",
        "X_ovo = vectorizer_ovo.fit_transform(texts)\n",
        "\n",
        "# Train-test split\n",
        "X_train_ovo, X_test_ovo, y_train_ovo, y_test_ovo = train_test_split(X_ovo, labels, test_size=0.2, random_state=42)\n",
        "\n",
        "# Define the parameter grid for C\n",
        "param_grid = {'C': [0.0625]}\n",
        "\n",
        "# GridSearchCV with SVC for One-vs-One model\n",
        "grid_search_ovo = GridSearchCV(SVC(decision_function_shape='ovo'), param_grid,verbose=3)\n",
        "grid_search_ovo.fit(X_train_ovo, y_train_ovo)\n",
        "\n",
        "# Best model for One-vs-One\n",
        "best_svm_ovo = grid_search_ovo.best_estimator_\n",
        "\n",
        "\n"
      ]
    },
    {
      "cell_type": "markdown",
      "metadata": {
        "id": "smRlAjZqmQUZ"
      },
      "source": [
        "# Crammer & Singer SVM Model\n"
      ]
    },
    {
      "cell_type": "code",
      "execution_count": 13,
      "metadata": {
        "colab": {
          "base_uri": "https://localhost:8080/"
        },
        "id": "aFI-5xLdmOhu",
        "outputId": "92fb0832-cc0f-437f-a4fb-4df9e40b3910"
      },
      "outputs": [
        {
          "output_type": "stream",
          "name": "stdout",
          "text": [
            "Fitting 5 folds for each of 5 candidates, totalling 25 fits\n"
          ]
        },
        {
          "output_type": "stream",
          "name": "stderr",
          "text": [
            "/usr/local/lib/python3.10/dist-packages/sklearn/svm/_base.py:1244: ConvergenceWarning: Liblinear failed to converge, increase the number of iterations.\n",
            "  warnings.warn(\n"
          ]
        },
        {
          "output_type": "stream",
          "name": "stdout",
          "text": [
            "[CV 1/5] END ..........................C=0.0625;, score=0.926 total time=   1.1s\n"
          ]
        },
        {
          "output_type": "stream",
          "name": "stderr",
          "text": [
            "/usr/local/lib/python3.10/dist-packages/sklearn/svm/_base.py:1244: ConvergenceWarning: Liblinear failed to converge, increase the number of iterations.\n",
            "  warnings.warn(\n"
          ]
        },
        {
          "output_type": "stream",
          "name": "stdout",
          "text": [
            "[CV 2/5] END ..........................C=0.0625;, score=0.926 total time=   1.2s\n"
          ]
        },
        {
          "output_type": "stream",
          "name": "stderr",
          "text": [
            "/usr/local/lib/python3.10/dist-packages/sklearn/svm/_base.py:1244: ConvergenceWarning: Liblinear failed to converge, increase the number of iterations.\n",
            "  warnings.warn(\n"
          ]
        },
        {
          "output_type": "stream",
          "name": "stdout",
          "text": [
            "[CV 3/5] END ..........................C=0.0625;, score=0.930 total time=   0.9s\n"
          ]
        },
        {
          "output_type": "stream",
          "name": "stderr",
          "text": [
            "/usr/local/lib/python3.10/dist-packages/sklearn/svm/_base.py:1244: ConvergenceWarning: Liblinear failed to converge, increase the number of iterations.\n",
            "  warnings.warn(\n"
          ]
        },
        {
          "output_type": "stream",
          "name": "stdout",
          "text": [
            "[CV 4/5] END ..........................C=0.0625;, score=0.929 total time=   2.6s\n"
          ]
        },
        {
          "output_type": "stream",
          "name": "stderr",
          "text": [
            "/usr/local/lib/python3.10/dist-packages/sklearn/svm/_base.py:1244: ConvergenceWarning: Liblinear failed to converge, increase the number of iterations.\n",
            "  warnings.warn(\n"
          ]
        },
        {
          "output_type": "stream",
          "name": "stdout",
          "text": [
            "[CV 5/5] END ..........................C=0.0625;, score=0.923 total time=   4.1s\n"
          ]
        },
        {
          "output_type": "stream",
          "name": "stderr",
          "text": [
            "/usr/local/lib/python3.10/dist-packages/sklearn/svm/_base.py:1244: ConvergenceWarning: Liblinear failed to converge, increase the number of iterations.\n",
            "  warnings.warn(\n"
          ]
        },
        {
          "output_type": "stream",
          "name": "stdout",
          "text": [
            "[CV 1/5] END ...........................C=0.125;, score=0.926 total time=   4.6s\n"
          ]
        },
        {
          "output_type": "stream",
          "name": "stderr",
          "text": [
            "/usr/local/lib/python3.10/dist-packages/sklearn/svm/_base.py:1244: ConvergenceWarning: Liblinear failed to converge, increase the number of iterations.\n",
            "  warnings.warn(\n"
          ]
        },
        {
          "output_type": "stream",
          "name": "stdout",
          "text": [
            "[CV 2/5] END ...........................C=0.125;, score=0.926 total time=   3.8s\n"
          ]
        },
        {
          "output_type": "stream",
          "name": "stderr",
          "text": [
            "/usr/local/lib/python3.10/dist-packages/sklearn/svm/_base.py:1244: ConvergenceWarning: Liblinear failed to converge, increase the number of iterations.\n",
            "  warnings.warn(\n"
          ]
        },
        {
          "output_type": "stream",
          "name": "stdout",
          "text": [
            "[CV 3/5] END ...........................C=0.125;, score=0.932 total time=   1.9s\n"
          ]
        },
        {
          "output_type": "stream",
          "name": "stderr",
          "text": [
            "/usr/local/lib/python3.10/dist-packages/sklearn/svm/_base.py:1244: ConvergenceWarning: Liblinear failed to converge, increase the number of iterations.\n",
            "  warnings.warn(\n"
          ]
        },
        {
          "output_type": "stream",
          "name": "stdout",
          "text": [
            "[CV 4/5] END ...........................C=0.125;, score=0.929 total time=   3.8s\n"
          ]
        },
        {
          "output_type": "stream",
          "name": "stderr",
          "text": [
            "/usr/local/lib/python3.10/dist-packages/sklearn/svm/_base.py:1244: ConvergenceWarning: Liblinear failed to converge, increase the number of iterations.\n",
            "  warnings.warn(\n"
          ]
        },
        {
          "output_type": "stream",
          "name": "stdout",
          "text": [
            "[CV 5/5] END ...........................C=0.125;, score=0.923 total time=   6.0s\n"
          ]
        },
        {
          "output_type": "stream",
          "name": "stderr",
          "text": [
            "/usr/local/lib/python3.10/dist-packages/sklearn/svm/_base.py:1244: ConvergenceWarning: Liblinear failed to converge, increase the number of iterations.\n",
            "  warnings.warn(\n"
          ]
        },
        {
          "output_type": "stream",
          "name": "stdout",
          "text": [
            "[CV 1/5] END ............................C=0.25;, score=0.923 total time=   3.4s\n"
          ]
        },
        {
          "output_type": "stream",
          "name": "stderr",
          "text": [
            "/usr/local/lib/python3.10/dist-packages/sklearn/svm/_base.py:1244: ConvergenceWarning: Liblinear failed to converge, increase the number of iterations.\n",
            "  warnings.warn(\n"
          ]
        },
        {
          "output_type": "stream",
          "name": "stdout",
          "text": [
            "[CV 2/5] END ............................C=0.25;, score=0.922 total time=   3.7s\n"
          ]
        },
        {
          "output_type": "stream",
          "name": "stderr",
          "text": [
            "/usr/local/lib/python3.10/dist-packages/sklearn/svm/_base.py:1244: ConvergenceWarning: Liblinear failed to converge, increase the number of iterations.\n",
            "  warnings.warn(\n"
          ]
        },
        {
          "output_type": "stream",
          "name": "stdout",
          "text": [
            "[CV 3/5] END ............................C=0.25;, score=0.929 total time=   4.9s\n"
          ]
        },
        {
          "output_type": "stream",
          "name": "stderr",
          "text": [
            "/usr/local/lib/python3.10/dist-packages/sklearn/svm/_base.py:1244: ConvergenceWarning: Liblinear failed to converge, increase the number of iterations.\n",
            "  warnings.warn(\n"
          ]
        },
        {
          "output_type": "stream",
          "name": "stdout",
          "text": [
            "[CV 4/5] END ............................C=0.25;, score=0.925 total time=   3.3s\n"
          ]
        },
        {
          "output_type": "stream",
          "name": "stderr",
          "text": [
            "/usr/local/lib/python3.10/dist-packages/sklearn/svm/_base.py:1244: ConvergenceWarning: Liblinear failed to converge, increase the number of iterations.\n",
            "  warnings.warn(\n"
          ]
        },
        {
          "output_type": "stream",
          "name": "stdout",
          "text": [
            "[CV 5/5] END ............................C=0.25;, score=0.918 total time=   2.6s\n"
          ]
        },
        {
          "output_type": "stream",
          "name": "stderr",
          "text": [
            "/usr/local/lib/python3.10/dist-packages/sklearn/svm/_base.py:1244: ConvergenceWarning: Liblinear failed to converge, increase the number of iterations.\n",
            "  warnings.warn(\n"
          ]
        },
        {
          "output_type": "stream",
          "name": "stdout",
          "text": [
            "[CV 1/5] END .............................C=0.5;, score=0.915 total time=   2.9s\n"
          ]
        },
        {
          "output_type": "stream",
          "name": "stderr",
          "text": [
            "/usr/local/lib/python3.10/dist-packages/sklearn/svm/_base.py:1244: ConvergenceWarning: Liblinear failed to converge, increase the number of iterations.\n",
            "  warnings.warn(\n"
          ]
        },
        {
          "output_type": "stream",
          "name": "stdout",
          "text": [
            "[CV 2/5] END .............................C=0.5;, score=0.913 total time=   3.4s\n"
          ]
        },
        {
          "output_type": "stream",
          "name": "stderr",
          "text": [
            "/usr/local/lib/python3.10/dist-packages/sklearn/svm/_base.py:1244: ConvergenceWarning: Liblinear failed to converge, increase the number of iterations.\n",
            "  warnings.warn(\n"
          ]
        },
        {
          "output_type": "stream",
          "name": "stdout",
          "text": [
            "[CV 3/5] END .............................C=0.5;, score=0.920 total time=   3.5s\n"
          ]
        },
        {
          "output_type": "stream",
          "name": "stderr",
          "text": [
            "/usr/local/lib/python3.10/dist-packages/sklearn/svm/_base.py:1244: ConvergenceWarning: Liblinear failed to converge, increase the number of iterations.\n",
            "  warnings.warn(\n"
          ]
        },
        {
          "output_type": "stream",
          "name": "stdout",
          "text": [
            "[CV 4/5] END .............................C=0.5;, score=0.915 total time=   7.3s\n"
          ]
        },
        {
          "output_type": "stream",
          "name": "stderr",
          "text": [
            "/usr/local/lib/python3.10/dist-packages/sklearn/svm/_base.py:1244: ConvergenceWarning: Liblinear failed to converge, increase the number of iterations.\n",
            "  warnings.warn(\n"
          ]
        },
        {
          "output_type": "stream",
          "name": "stdout",
          "text": [
            "[CV 5/5] END .............................C=0.5;, score=0.913 total time=   4.0s\n"
          ]
        },
        {
          "output_type": "stream",
          "name": "stderr",
          "text": [
            "/usr/local/lib/python3.10/dist-packages/sklearn/svm/_base.py:1244: ConvergenceWarning: Liblinear failed to converge, increase the number of iterations.\n",
            "  warnings.warn(\n"
          ]
        },
        {
          "output_type": "stream",
          "name": "stdout",
          "text": [
            "[CV 1/5] END ...............................C=1;, score=0.910 total time=   4.7s\n"
          ]
        },
        {
          "output_type": "stream",
          "name": "stderr",
          "text": [
            "/usr/local/lib/python3.10/dist-packages/sklearn/svm/_base.py:1244: ConvergenceWarning: Liblinear failed to converge, increase the number of iterations.\n",
            "  warnings.warn(\n"
          ]
        },
        {
          "output_type": "stream",
          "name": "stdout",
          "text": [
            "[CV 2/5] END ...............................C=1;, score=0.905 total time=   3.1s\n"
          ]
        },
        {
          "output_type": "stream",
          "name": "stderr",
          "text": [
            "/usr/local/lib/python3.10/dist-packages/sklearn/svm/_base.py:1244: ConvergenceWarning: Liblinear failed to converge, increase the number of iterations.\n",
            "  warnings.warn(\n"
          ]
        },
        {
          "output_type": "stream",
          "name": "stdout",
          "text": [
            "[CV 3/5] END ...............................C=1;, score=0.912 total time=   3.0s\n"
          ]
        },
        {
          "output_type": "stream",
          "name": "stderr",
          "text": [
            "/usr/local/lib/python3.10/dist-packages/sklearn/svm/_base.py:1244: ConvergenceWarning: Liblinear failed to converge, increase the number of iterations.\n",
            "  warnings.warn(\n"
          ]
        },
        {
          "output_type": "stream",
          "name": "stdout",
          "text": [
            "[CV 4/5] END ...............................C=1;, score=0.907 total time=   6.3s\n"
          ]
        },
        {
          "output_type": "stream",
          "name": "stderr",
          "text": [
            "/usr/local/lib/python3.10/dist-packages/sklearn/svm/_base.py:1244: ConvergenceWarning: Liblinear failed to converge, increase the number of iterations.\n",
            "  warnings.warn(\n"
          ]
        },
        {
          "output_type": "stream",
          "name": "stdout",
          "text": [
            "[CV 5/5] END ...............................C=1;, score=0.904 total time=   3.1s\n"
          ]
        },
        {
          "output_type": "stream",
          "name": "stderr",
          "text": [
            "/usr/local/lib/python3.10/dist-packages/sklearn/svm/_base.py:1244: ConvergenceWarning: Liblinear failed to converge, increase the number of iterations.\n",
            "  warnings.warn(\n"
          ]
        }
      ],
      "source": [
        "# Binary Vectorization for Crammer & Singer model\n",
        "vectorizer_cs = CountVectorizer(binary=True)\n",
        "X_cs = vectorizer_cs.fit_transform(texts)\n",
        "\n",
        "# Train-test split\n",
        "X_train_cs, X_test_cs, y_train_cs, y_test_cs = train_test_split(X_cs, labels, test_size=0.2, random_state=42)\n",
        "\n",
        "# Define the parameter grid for C\n",
        "param_grid = {'C': [0.0625, 0.125, 0.25, 0.5, 1]}\n",
        "\n",
        "# GridSearchCV with LinearSVC for Crammer & Singer model\n",
        "grid_search_cs = GridSearchCV(LinearSVC(multi_class='crammer_singer', dual=False), param_grid,verbose=3)\n",
        "grid_search_cs.fit(X_train_cs, y_train_cs)\n",
        "\n",
        "# Best model for Crammer & Singer\n",
        "best_svm_cs = grid_search_cs.best_estimator_\n"
      ]
    },
    {
      "cell_type": "markdown",
      "metadata": {
        "id": "6dnPTOYKs3rq"
      },
      "source": [
        "# Uni-gram + Bi-gram\n",
        "*  Bigram SVM One vs Rest\n",
        "*  Bigram SVM One vs One\n",
        "*  Bigram SVM Crammer and Singer\n",
        "\n",
        "\n",
        "\n"
      ]
    },
    {
      "cell_type": "code",
      "execution_count": 14,
      "metadata": {
        "id": "xYVcVJ5_0pA0"
      },
      "outputs": [],
      "source": [
        "# Encode labels to integers\n",
        "label_encoder = LabelEncoder()\n",
        "labels = label_encoder.fit_transform(categories)\n",
        "\n",
        "# Bigram + Unigram Vectorization\n",
        "vectorizer_bigram = TfidfVectorizer(ngram_range=(1, 2), norm='l2')\n",
        "X_bigram = vectorizer_bigram.fit_transform(texts)\n",
        "\n",
        "X_train_bigram, X_test_bigram, y_train_bigram, y_test_bigram = train_test_split(X_bigram, labels, test_size=0.2, random_state=42)\n",
        "# Define the parameter grid for C\n",
        "param_grid = {'C': [0.0625, 0.125, 0.25, 0.5, 1]}"
      ]
    },
    {
      "cell_type": "markdown",
      "metadata": {
        "id": "W6_udaL20kPx"
      },
      "source": [
        "**Bigram SVM One vs Rest**"
      ]
    },
    {
      "cell_type": "code",
      "execution_count": 15,
      "metadata": {
        "id": "tPwE9xUWtgqr"
      },
      "outputs": [],
      "source": [
        "# GridSearchCV with LinearSVC for bigram model\n",
        "grid_search_bigram = GridSearchCV(LinearSVC(dual=False), param_grid)\n",
        "grid_search_bigram.fit(X_train_bigram, y_train_bigram)\n",
        "\n",
        "# Best model for baseline\n",
        "best_svm_bigram = grid_search_bigram.best_estimator_\n"
      ]
    },
    {
      "cell_type": "markdown",
      "metadata": {
        "id": "HDYDfFbPvLeP"
      },
      "source": [
        "**Bigram SVM One vs One**"
      ]
    },
    {
      "cell_type": "code",
      "execution_count": 16,
      "metadata": {
        "id": "BHLBqxN-vPDI",
        "colab": {
          "base_uri": "https://localhost:8080/"
        },
        "outputId": "b6dee1bb-573c-454d-e527-69ed0e373107"
      },
      "outputs": [
        {
          "output_type": "stream",
          "name": "stdout",
          "text": [
            "Fitting 5 folds for each of 1 candidates, totalling 5 fits\n",
            "[CV 1/5] END ..........................C=0.0625;, score=0.383 total time= 4.3min\n",
            "[CV 2/5] END ..........................C=0.0625;, score=0.383 total time= 4.3min\n",
            "[CV 3/5] END ..........................C=0.0625;, score=0.380 total time= 4.3min\n",
            "[CV 4/5] END ..........................C=0.0625;, score=0.386 total time= 4.3min\n",
            "[CV 5/5] END ..........................C=0.0625;, score=0.383 total time= 4.3min\n"
          ]
        }
      ],
      "source": [
        "# GridSearchCV with LinearSVC for bigram model\n",
        "param_grid = {'C': [0.0625]}\n",
        "grid_search_bigram = GridSearchCV(SVC(decision_function_shape='ovo'), param_grid,verbose=3)\n",
        "grid_search_bigram.fit(X_train_bigram, y_train_bigram)\n",
        "\n",
        "# Best model for baseline\n",
        "best_svm_bigram_ovo= grid_search_bigram.best_estimator_\n",
        "\n"
      ]
    },
    {
      "cell_type": "markdown",
      "metadata": {
        "id": "IjrVmIJ66x3J"
      },
      "source": [
        "**Bigram SVM Crammer and Singer**"
      ]
    },
    {
      "cell_type": "code",
      "execution_count": 17,
      "metadata": {
        "colab": {
          "base_uri": "https://localhost:8080/"
        },
        "id": "DSXfEpnG65m2",
        "outputId": "054b86a7-f893-447c-84b7-40cefa97485d"
      },
      "outputs": [
        {
          "output_type": "stream",
          "name": "stdout",
          "text": [
            "Fitting 5 folds for each of 5 candidates, totalling 25 fits\n"
          ]
        },
        {
          "output_type": "stream",
          "name": "stderr",
          "text": [
            "/usr/local/lib/python3.10/dist-packages/sklearn/svm/_base.py:1244: ConvergenceWarning: Liblinear failed to converge, increase the number of iterations.\n",
            "  warnings.warn(\n"
          ]
        },
        {
          "output_type": "stream",
          "name": "stdout",
          "text": [
            "[CV 1/5] END ..........................C=0.0625;, score=0.909 total time=   3.3s\n"
          ]
        },
        {
          "output_type": "stream",
          "name": "stderr",
          "text": [
            "/usr/local/lib/python3.10/dist-packages/sklearn/svm/_base.py:1244: ConvergenceWarning: Liblinear failed to converge, increase the number of iterations.\n",
            "  warnings.warn(\n"
          ]
        },
        {
          "output_type": "stream",
          "name": "stdout",
          "text": [
            "[CV 2/5] END ..........................C=0.0625;, score=0.908 total time=   3.1s\n"
          ]
        },
        {
          "output_type": "stream",
          "name": "stderr",
          "text": [
            "/usr/local/lib/python3.10/dist-packages/sklearn/svm/_base.py:1244: ConvergenceWarning: Liblinear failed to converge, increase the number of iterations.\n",
            "  warnings.warn(\n"
          ]
        },
        {
          "output_type": "stream",
          "name": "stdout",
          "text": [
            "[CV 3/5] END ..........................C=0.0625;, score=0.915 total time=   2.8s\n"
          ]
        },
        {
          "output_type": "stream",
          "name": "stderr",
          "text": [
            "/usr/local/lib/python3.10/dist-packages/sklearn/svm/_base.py:1244: ConvergenceWarning: Liblinear failed to converge, increase the number of iterations.\n",
            "  warnings.warn(\n"
          ]
        },
        {
          "output_type": "stream",
          "name": "stdout",
          "text": [
            "[CV 4/5] END ..........................C=0.0625;, score=0.911 total time=   4.1s\n"
          ]
        },
        {
          "output_type": "stream",
          "name": "stderr",
          "text": [
            "/usr/local/lib/python3.10/dist-packages/sklearn/svm/_base.py:1244: ConvergenceWarning: Liblinear failed to converge, increase the number of iterations.\n",
            "  warnings.warn(\n"
          ]
        },
        {
          "output_type": "stream",
          "name": "stdout",
          "text": [
            "[CV 5/5] END ..........................C=0.0625;, score=0.902 total time=   2.5s\n"
          ]
        },
        {
          "output_type": "stream",
          "name": "stderr",
          "text": [
            "/usr/local/lib/python3.10/dist-packages/sklearn/svm/_base.py:1244: ConvergenceWarning: Liblinear failed to converge, increase the number of iterations.\n",
            "  warnings.warn(\n"
          ]
        },
        {
          "output_type": "stream",
          "name": "stdout",
          "text": [
            "[CV 1/5] END ...........................C=0.125;, score=0.923 total time=   3.5s\n"
          ]
        },
        {
          "output_type": "stream",
          "name": "stderr",
          "text": [
            "/usr/local/lib/python3.10/dist-packages/sklearn/svm/_base.py:1244: ConvergenceWarning: Liblinear failed to converge, increase the number of iterations.\n",
            "  warnings.warn(\n"
          ]
        },
        {
          "output_type": "stream",
          "name": "stdout",
          "text": [
            "[CV 2/5] END ...........................C=0.125;, score=0.920 total time=   2.6s\n"
          ]
        },
        {
          "output_type": "stream",
          "name": "stderr",
          "text": [
            "/usr/local/lib/python3.10/dist-packages/sklearn/svm/_base.py:1244: ConvergenceWarning: Liblinear failed to converge, increase the number of iterations.\n",
            "  warnings.warn(\n"
          ]
        },
        {
          "output_type": "stream",
          "name": "stdout",
          "text": [
            "[CV 3/5] END ...........................C=0.125;, score=0.927 total time=   5.4s\n",
            "[CV 4/5] END ...........................C=0.125;, score=0.921 total time=   3.8s\n"
          ]
        },
        {
          "output_type": "stream",
          "name": "stderr",
          "text": [
            "/usr/local/lib/python3.10/dist-packages/sklearn/svm/_base.py:1244: ConvergenceWarning: Liblinear failed to converge, increase the number of iterations.\n",
            "  warnings.warn(\n"
          ]
        },
        {
          "output_type": "stream",
          "name": "stdout",
          "text": [
            "[CV 5/5] END ...........................C=0.125;, score=0.916 total time=   2.6s\n"
          ]
        },
        {
          "output_type": "stream",
          "name": "stderr",
          "text": [
            "/usr/local/lib/python3.10/dist-packages/sklearn/svm/_base.py:1244: ConvergenceWarning: Liblinear failed to converge, increase the number of iterations.\n",
            "  warnings.warn(\n"
          ]
        },
        {
          "output_type": "stream",
          "name": "stdout",
          "text": [
            "[CV 1/5] END ............................C=0.25;, score=0.931 total time=   2.6s\n"
          ]
        },
        {
          "output_type": "stream",
          "name": "stderr",
          "text": [
            "/usr/local/lib/python3.10/dist-packages/sklearn/svm/_base.py:1244: ConvergenceWarning: Liblinear failed to converge, increase the number of iterations.\n",
            "  warnings.warn(\n"
          ]
        },
        {
          "output_type": "stream",
          "name": "stdout",
          "text": [
            "[CV 2/5] END ............................C=0.25;, score=0.931 total time=   6.3s\n",
            "[CV 3/5] END ............................C=0.25;, score=0.934 total time=   3.5s\n"
          ]
        },
        {
          "output_type": "stream",
          "name": "stderr",
          "text": [
            "/usr/local/lib/python3.10/dist-packages/sklearn/svm/_base.py:1244: ConvergenceWarning: Liblinear failed to converge, increase the number of iterations.\n",
            "  warnings.warn(\n"
          ]
        },
        {
          "output_type": "stream",
          "name": "stdout",
          "text": [
            "[CV 4/5] END ............................C=0.25;, score=0.931 total time=   3.2s\n",
            "[CV 5/5] END ............................C=0.25;, score=0.925 total time=   6.0s\n",
            "[CV 1/5] END .............................C=0.5;, score=0.934 total time=  11.3s\n"
          ]
        },
        {
          "output_type": "stream",
          "name": "stderr",
          "text": [
            "/usr/local/lib/python3.10/dist-packages/sklearn/svm/_base.py:1244: ConvergenceWarning: Liblinear failed to converge, increase the number of iterations.\n",
            "  warnings.warn(\n"
          ]
        },
        {
          "output_type": "stream",
          "name": "stdout",
          "text": [
            "[CV 2/5] END .............................C=0.5;, score=0.935 total time=   4.5s\n"
          ]
        },
        {
          "output_type": "stream",
          "name": "stderr",
          "text": [
            "/usr/local/lib/python3.10/dist-packages/sklearn/svm/_base.py:1244: ConvergenceWarning: Liblinear failed to converge, increase the number of iterations.\n",
            "  warnings.warn(\n"
          ]
        },
        {
          "output_type": "stream",
          "name": "stdout",
          "text": [
            "[CV 3/5] END .............................C=0.5;, score=0.940 total time=   4.8s\n"
          ]
        },
        {
          "output_type": "stream",
          "name": "stderr",
          "text": [
            "/usr/local/lib/python3.10/dist-packages/sklearn/svm/_base.py:1244: ConvergenceWarning: Liblinear failed to converge, increase the number of iterations.\n",
            "  warnings.warn(\n"
          ]
        },
        {
          "output_type": "stream",
          "name": "stdout",
          "text": [
            "[CV 4/5] END .............................C=0.5;, score=0.935 total time=   5.7s\n"
          ]
        },
        {
          "output_type": "stream",
          "name": "stderr",
          "text": [
            "/usr/local/lib/python3.10/dist-packages/sklearn/svm/_base.py:1244: ConvergenceWarning: Liblinear failed to converge, increase the number of iterations.\n",
            "  warnings.warn(\n"
          ]
        },
        {
          "output_type": "stream",
          "name": "stdout",
          "text": [
            "[CV 5/5] END .............................C=0.5;, score=0.932 total time=   5.3s\n"
          ]
        },
        {
          "output_type": "stream",
          "name": "stderr",
          "text": [
            "/usr/local/lib/python3.10/dist-packages/sklearn/svm/_base.py:1244: ConvergenceWarning: Liblinear failed to converge, increase the number of iterations.\n",
            "  warnings.warn(\n"
          ]
        },
        {
          "output_type": "stream",
          "name": "stdout",
          "text": [
            "[CV 1/5] END ...............................C=1;, score=0.934 total time=   3.4s\n"
          ]
        },
        {
          "output_type": "stream",
          "name": "stderr",
          "text": [
            "/usr/local/lib/python3.10/dist-packages/sklearn/svm/_base.py:1244: ConvergenceWarning: Liblinear failed to converge, increase the number of iterations.\n",
            "  warnings.warn(\n"
          ]
        },
        {
          "output_type": "stream",
          "name": "stdout",
          "text": [
            "[CV 2/5] END ...............................C=1;, score=0.936 total time=  16.3s\n"
          ]
        },
        {
          "output_type": "stream",
          "name": "stderr",
          "text": [
            "/usr/local/lib/python3.10/dist-packages/sklearn/svm/_base.py:1244: ConvergenceWarning: Liblinear failed to converge, increase the number of iterations.\n",
            "  warnings.warn(\n"
          ]
        },
        {
          "output_type": "stream",
          "name": "stdout",
          "text": [
            "[CV 3/5] END ...............................C=1;, score=0.940 total time=   7.4s\n",
            "[CV 4/5] END ...............................C=1;, score=0.936 total time=   5.3s\n"
          ]
        },
        {
          "output_type": "stream",
          "name": "stderr",
          "text": [
            "/usr/local/lib/python3.10/dist-packages/sklearn/svm/_base.py:1244: ConvergenceWarning: Liblinear failed to converge, increase the number of iterations.\n",
            "  warnings.warn(\n"
          ]
        },
        {
          "output_type": "stream",
          "name": "stdout",
          "text": [
            "[CV 5/5] END ...............................C=1;, score=0.933 total time=   7.2s\n"
          ]
        },
        {
          "output_type": "stream",
          "name": "stderr",
          "text": [
            "/usr/local/lib/python3.10/dist-packages/sklearn/svm/_base.py:1244: ConvergenceWarning: Liblinear failed to converge, increase the number of iterations.\n",
            "  warnings.warn(\n"
          ]
        }
      ],
      "source": [
        "# GridSearchCV with LinearSVC for bigram model\n",
        "param_grid = {'C': [0.0625, 0.125, 0.25, 0.5, 1]}\n",
        "grid_search_bigram = GridSearchCV(LinearSVC(multi_class='crammer_singer', dual=False), param_grid,verbose=3)\n",
        "grid_search_bigram.fit(X_train_bigram, y_train_bigram)\n",
        "\n",
        "# Best model for baseline\n",
        "best_svm_bigram_cs = grid_search_bigram.best_estimator_\n",
        "\n"
      ]
    },
    {
      "cell_type": "markdown",
      "metadata": {
        "id": "Gdu4_gO68f7e"
      },
      "source": [
        "# Polynomial\n",
        "*   SVM One vs One\n",
        "*   SVM One vs Rest\n",
        "*   SVM Crammer and Singer"
      ]
    },
    {
      "cell_type": "code",
      "execution_count": 18,
      "metadata": {
        "id": "Sao88kIz9Aof"
      },
      "outputs": [],
      "source": [
        "\n",
        "\n",
        "# Polynomial Mapping (Degree-2) using Hashing\n",
        "vectorizer_unigram = TfidfVectorizer(norm='l2')\n",
        "X_unigram = vectorizer_unigram.fit_transform(texts)\n",
        "hashing = HashingVectorizer(n_features=2**20)  # Adjust n_features based on your memory constraints\n",
        "X_poly = hashing.transform(texts)\n",
        "\n",
        "X_train_poly, X_test_poly, y_train_poly, y_test_poly = train_test_split(X_poly, labels, test_size=0.2, random_state=42)\n",
        "\n"
      ]
    },
    {
      "cell_type": "markdown",
      "metadata": {
        "id": "R_YmjmEjGdz6"
      },
      "source": [
        "**Polynomial Degree 2 SVM One vs One**"
      ]
    },
    {
      "cell_type": "code",
      "execution_count": 19,
      "metadata": {
        "colab": {
          "base_uri": "https://localhost:8080/"
        },
        "id": "p6F39Zc8F2WY",
        "outputId": "1832a7cd-8192-4c21-a20b-5ef6696663b0"
      },
      "outputs": [
        {
          "output_type": "stream",
          "name": "stdout",
          "text": [
            "Fitting 5 folds for each of 1 candidates, totalling 5 fits\n",
            "[CV 1/5] END ..........................C=0.0625;, score=0.662 total time= 2.2min\n",
            "[CV 2/5] END ..........................C=0.0625;, score=0.660 total time= 2.2min\n",
            "[CV 3/5] END ..........................C=0.0625;, score=0.668 total time= 2.2min\n",
            "[CV 4/5] END ..........................C=0.0625;, score=0.653 total time= 2.2min\n",
            "[CV 5/5] END ..........................C=0.0625;, score=0.654 total time= 2.2min\n"
          ]
        }
      ],
      "source": [
        "# GridSearchCV with LinearSVC for poly model\n",
        "param_grid = {'C': [0.0625]}\n",
        "grid_search_poly = GridSearchCV(SVC(decision_function_shape='ovo'), param_grid,verbose=3)\n",
        "grid_search_poly.fit(X_train_poly, y_train_poly)\n",
        "\n",
        "# Best model for poly\n",
        "best_svm_poly_ovo = grid_search_poly.best_estimator_\n",
        "\n"
      ]
    },
    {
      "cell_type": "code",
      "execution_count": 20,
      "metadata": {
        "id": "VaqJw9Q3IXch"
      },
      "outputs": [],
      "source": [
        "param_grid = {'C': [0.0625, 0.125, 0.25, 0.5, 1]}"
      ]
    },
    {
      "cell_type": "markdown",
      "metadata": {
        "id": "CEOWKxtpISlq"
      },
      "source": [
        "**Polynomial Degree 2 SVM One vs Rest**"
      ]
    },
    {
      "cell_type": "code",
      "execution_count": 21,
      "metadata": {
        "id": "AYuR00sqIVaK"
      },
      "outputs": [],
      "source": [
        "# GridSearchCV with LinearSVC for poly model\n",
        "grid_search_poly = GridSearchCV(LinearSVC(dual=False), param_grid)\n",
        "grid_search_poly.fit(X_train_poly, y_train_poly)\n",
        "\n",
        "# Best model for poly\n",
        "best_svm_poly = grid_search_poly.best_estimator_\n",
        "\n"
      ]
    },
    {
      "cell_type": "markdown",
      "metadata": {
        "id": "jmadpTCcJaSj"
      },
      "source": [
        "**Polynomial Degree 2 Crammer and Singer**"
      ]
    },
    {
      "cell_type": "code",
      "execution_count": 22,
      "metadata": {
        "id": "KBuB2H3nJiTd",
        "colab": {
          "base_uri": "https://localhost:8080/"
        },
        "outputId": "55fac73b-03fe-42ec-f356-f29416e566b9"
      },
      "outputs": [
        {
          "output_type": "stream",
          "name": "stdout",
          "text": [
            "Fitting 5 folds for each of 5 candidates, totalling 25 fits\n"
          ]
        },
        {
          "output_type": "stream",
          "name": "stderr",
          "text": [
            "/usr/local/lib/python3.10/dist-packages/sklearn/svm/_base.py:1244: ConvergenceWarning: Liblinear failed to converge, increase the number of iterations.\n",
            "  warnings.warn(\n"
          ]
        },
        {
          "output_type": "stream",
          "name": "stdout",
          "text": [
            "[CV 1/5] END ..........................C=0.0625;, score=0.904 total time=   1.0s\n"
          ]
        },
        {
          "output_type": "stream",
          "name": "stderr",
          "text": [
            "/usr/local/lib/python3.10/dist-packages/sklearn/svm/_base.py:1244: ConvergenceWarning: Liblinear failed to converge, increase the number of iterations.\n",
            "  warnings.warn(\n"
          ]
        },
        {
          "output_type": "stream",
          "name": "stdout",
          "text": [
            "[CV 2/5] END ..........................C=0.0625;, score=0.902 total time=   1.4s\n"
          ]
        },
        {
          "output_type": "stream",
          "name": "stderr",
          "text": [
            "/usr/local/lib/python3.10/dist-packages/sklearn/svm/_base.py:1244: ConvergenceWarning: Liblinear failed to converge, increase the number of iterations.\n",
            "  warnings.warn(\n"
          ]
        },
        {
          "output_type": "stream",
          "name": "stdout",
          "text": [
            "[CV 3/5] END ..........................C=0.0625;, score=0.911 total time=   1.3s\n"
          ]
        },
        {
          "output_type": "stream",
          "name": "stderr",
          "text": [
            "/usr/local/lib/python3.10/dist-packages/sklearn/svm/_base.py:1244: ConvergenceWarning: Liblinear failed to converge, increase the number of iterations.\n",
            "  warnings.warn(\n"
          ]
        },
        {
          "output_type": "stream",
          "name": "stdout",
          "text": [
            "[CV 4/5] END ..........................C=0.0625;, score=0.907 total time=   2.2s\n"
          ]
        },
        {
          "output_type": "stream",
          "name": "stderr",
          "text": [
            "/usr/local/lib/python3.10/dist-packages/sklearn/svm/_base.py:1244: ConvergenceWarning: Liblinear failed to converge, increase the number of iterations.\n",
            "  warnings.warn(\n"
          ]
        },
        {
          "output_type": "stream",
          "name": "stdout",
          "text": [
            "[CV 5/5] END ..........................C=0.0625;, score=0.897 total time=   1.9s\n"
          ]
        },
        {
          "output_type": "stream",
          "name": "stderr",
          "text": [
            "/usr/local/lib/python3.10/dist-packages/sklearn/svm/_base.py:1244: ConvergenceWarning: Liblinear failed to converge, increase the number of iterations.\n",
            "  warnings.warn(\n"
          ]
        },
        {
          "output_type": "stream",
          "name": "stdout",
          "text": [
            "[CV 1/5] END ...........................C=0.125;, score=0.916 total time=   2.4s\n"
          ]
        },
        {
          "output_type": "stream",
          "name": "stderr",
          "text": [
            "/usr/local/lib/python3.10/dist-packages/sklearn/svm/_base.py:1244: ConvergenceWarning: Liblinear failed to converge, increase the number of iterations.\n",
            "  warnings.warn(\n"
          ]
        },
        {
          "output_type": "stream",
          "name": "stdout",
          "text": [
            "[CV 2/5] END ...........................C=0.125;, score=0.915 total time=   1.1s\n"
          ]
        },
        {
          "output_type": "stream",
          "name": "stderr",
          "text": [
            "/usr/local/lib/python3.10/dist-packages/sklearn/svm/_base.py:1244: ConvergenceWarning: Liblinear failed to converge, increase the number of iterations.\n",
            "  warnings.warn(\n"
          ]
        },
        {
          "output_type": "stream",
          "name": "stdout",
          "text": [
            "[CV 3/5] END ...........................C=0.125;, score=0.922 total time=   2.3s\n"
          ]
        },
        {
          "output_type": "stream",
          "name": "stderr",
          "text": [
            "/usr/local/lib/python3.10/dist-packages/sklearn/svm/_base.py:1244: ConvergenceWarning: Liblinear failed to converge, increase the number of iterations.\n",
            "  warnings.warn(\n"
          ]
        },
        {
          "output_type": "stream",
          "name": "stdout",
          "text": [
            "[CV 4/5] END ...........................C=0.125;, score=0.919 total time=   1.0s\n"
          ]
        },
        {
          "output_type": "stream",
          "name": "stderr",
          "text": [
            "/usr/local/lib/python3.10/dist-packages/sklearn/svm/_base.py:1244: ConvergenceWarning: Liblinear failed to converge, increase the number of iterations.\n",
            "  warnings.warn(\n"
          ]
        },
        {
          "output_type": "stream",
          "name": "stdout",
          "text": [
            "[CV 5/5] END ...........................C=0.125;, score=0.911 total time=   1.0s\n"
          ]
        },
        {
          "output_type": "stream",
          "name": "stderr",
          "text": [
            "/usr/local/lib/python3.10/dist-packages/sklearn/svm/_base.py:1244: ConvergenceWarning: Liblinear failed to converge, increase the number of iterations.\n",
            "  warnings.warn(\n"
          ]
        },
        {
          "output_type": "stream",
          "name": "stdout",
          "text": [
            "[CV 1/5] END ............................C=0.25;, score=0.923 total time=   1.4s\n",
            "[CV 2/5] END ............................C=0.25;, score=0.923 total time=   1.4s\n"
          ]
        },
        {
          "output_type": "stream",
          "name": "stderr",
          "text": [
            "/usr/local/lib/python3.10/dist-packages/sklearn/svm/_base.py:1244: ConvergenceWarning: Liblinear failed to converge, increase the number of iterations.\n",
            "  warnings.warn(\n"
          ]
        },
        {
          "output_type": "stream",
          "name": "stdout",
          "text": [
            "[CV 3/5] END ............................C=0.25;, score=0.928 total time=   1.5s\n",
            "[CV 4/5] END ............................C=0.25;, score=0.927 total time=   2.2s\n"
          ]
        },
        {
          "output_type": "stream",
          "name": "stderr",
          "text": [
            "/usr/local/lib/python3.10/dist-packages/sklearn/svm/_base.py:1244: ConvergenceWarning: Liblinear failed to converge, increase the number of iterations.\n",
            "  warnings.warn(\n"
          ]
        },
        {
          "output_type": "stream",
          "name": "stdout",
          "text": [
            "[CV 5/5] END ............................C=0.25;, score=0.919 total time=   2.1s\n",
            "[CV 1/5] END .............................C=0.5;, score=0.927 total time=   3.0s\n"
          ]
        },
        {
          "output_type": "stream",
          "name": "stderr",
          "text": [
            "/usr/local/lib/python3.10/dist-packages/sklearn/svm/_base.py:1244: ConvergenceWarning: Liblinear failed to converge, increase the number of iterations.\n",
            "  warnings.warn(\n"
          ]
        },
        {
          "output_type": "stream",
          "name": "stdout",
          "text": [
            "[CV 2/5] END .............................C=0.5;, score=0.930 total time=   1.4s\n"
          ]
        },
        {
          "output_type": "stream",
          "name": "stderr",
          "text": [
            "/usr/local/lib/python3.10/dist-packages/sklearn/svm/_base.py:1244: ConvergenceWarning: Liblinear failed to converge, increase the number of iterations.\n",
            "  warnings.warn(\n"
          ]
        },
        {
          "output_type": "stream",
          "name": "stdout",
          "text": [
            "[CV 3/5] END .............................C=0.5;, score=0.931 total time=   1.6s\n"
          ]
        },
        {
          "output_type": "stream",
          "name": "stderr",
          "text": [
            "/usr/local/lib/python3.10/dist-packages/sklearn/svm/_base.py:1244: ConvergenceWarning: Liblinear failed to converge, increase the number of iterations.\n",
            "  warnings.warn(\n"
          ]
        },
        {
          "output_type": "stream",
          "name": "stdout",
          "text": [
            "[CV 4/5] END .............................C=0.5;, score=0.930 total time=   1.9s\n",
            "[CV 5/5] END .............................C=0.5;, score=0.925 total time=   6.2s\n"
          ]
        },
        {
          "output_type": "stream",
          "name": "stderr",
          "text": [
            "/usr/local/lib/python3.10/dist-packages/sklearn/svm/_base.py:1244: ConvergenceWarning: Liblinear failed to converge, increase the number of iterations.\n",
            "  warnings.warn(\n"
          ]
        },
        {
          "output_type": "stream",
          "name": "stdout",
          "text": [
            "[CV 1/5] END ...............................C=1;, score=0.929 total time=   5.9s\n",
            "[CV 2/5] END ...............................C=1;, score=0.930 total time=   2.6s\n"
          ]
        },
        {
          "output_type": "stream",
          "name": "stderr",
          "text": [
            "/usr/local/lib/python3.10/dist-packages/sklearn/svm/_base.py:1244: ConvergenceWarning: Liblinear failed to converge, increase the number of iterations.\n",
            "  warnings.warn(\n"
          ]
        },
        {
          "output_type": "stream",
          "name": "stdout",
          "text": [
            "[CV 3/5] END ...............................C=1;, score=0.933 total time=   7.2s\n"
          ]
        },
        {
          "output_type": "stream",
          "name": "stderr",
          "text": [
            "/usr/local/lib/python3.10/dist-packages/sklearn/svm/_base.py:1244: ConvergenceWarning: Liblinear failed to converge, increase the number of iterations.\n",
            "  warnings.warn(\n"
          ]
        },
        {
          "output_type": "stream",
          "name": "stdout",
          "text": [
            "[CV 4/5] END ...............................C=1;, score=0.931 total time=  13.9s\n",
            "[CV 5/5] END ...............................C=1;, score=0.926 total time=   3.9s\n"
          ]
        },
        {
          "output_type": "stream",
          "name": "stderr",
          "text": [
            "/usr/local/lib/python3.10/dist-packages/sklearn/svm/_base.py:1244: ConvergenceWarning: Liblinear failed to converge, increase the number of iterations.\n",
            "  warnings.warn(\n"
          ]
        }
      ],
      "source": [
        "# GridSearchCV with LinearSVC for poly model\n",
        "grid_search_poly = GridSearchCV(LinearSVC(multi_class='crammer_singer', dual=False), param_grid,verbose=3)\n",
        "grid_search_poly.fit(X_train_poly, y_train_poly)\n",
        "\n",
        "# Best model for poly\n",
        "best_svm_poly_cs = grid_search_poly.best_estimator_\n",
        "\n"
      ]
    },
    {
      "cell_type": "markdown",
      "source": [
        "# Comparing All the models"
      ],
      "metadata": {
        "id": "VrAW3yU-ZQjX"
      }
    },
    {
      "cell_type": "code",
      "source": [
        "print(\"Model 0: Baseline Model \")\n",
        "# Evaluate the baseline model\n",
        "y_pred_base = best_svm_base.predict(X_test_base)\n",
        "accuracy_base = accuracy_score(y_test_base, y_pred_base)\n",
        "error_rate_base = 1 - accuracy_base\n",
        "print(f'Baseline Model Accuracy: {accuracy_base}')\n",
        "print(f'Baseline Model Error Rate: {error_rate_base}')\n",
        "\n",
        "# Classification report\n",
        "baseline = classification_report(y_test_base,y_pred_base, target_names=label_encoder.classes_)\n",
        "print(baseline)\n",
        "\n",
        "# Confusion matrix\n",
        "print(confusion_matrix(y_test_base,y_pred_base))\n",
        "\n",
        "\n",
        "print(\"Model 1: Baseline Model with Stop Word Removal and Stemmed Text \")\n",
        "# Evaluate the second model\n",
        "y_pred_second = best_svm_stemmed.predict(X_test_second)\n",
        "accuracy_second = accuracy_score(y_test_second, y_pred_second)\n",
        "error_rate_second = 1 - accuracy_second\n",
        "print(f'Second Model Accuracy: {accuracy_second}')\n",
        "print(f'Second Model Error Rate: {error_rate_second}')\n",
        "\n",
        "# Calculate the relative error ratio\n",
        "relative_error_ratio_baseline_stemmed = error_rate_second / error_rate_base\n",
        "print(f'Relative Error Ratio (One vs Rest / Baseline): {relative_error_ratio_baseline_stemmed}')\n",
        "\n",
        "print(\"Second Model Classification Report:\")\n",
        "second = classification_report(y_test_second, y_pred_second, target_names=label_encoder.classes_)\n",
        "print(second)\n",
        "print(\"Second Model Confusion Matrix:\")\n",
        "print(confusion_matrix(y_test_second, y_pred_second))\n",
        "\n",
        "print(\"Model 2: Baseline Model with One vs One SVM \")\n",
        "# Evaluate the One-vs-One model\n",
        "y_pred_ovo = best_svm_ovo.predict(X_test_ovo)\n",
        "accuracy_ovo = accuracy_score(y_test_ovo, y_pred_ovo)\n",
        "error_rate_ovo = 1 - accuracy_ovo\n",
        "print(f'One-vs-One Model Accuracy: {accuracy_ovo}')\n",
        "print(f'One-vs-One Model Error Rate: {error_rate_ovo}')\n",
        "\n",
        "# Calculate the relative error ratio\n",
        "relative_error_ratio_baseline_ovo = error_rate_ovo / error_rate_base\n",
        "print(f'Relative Error Ratio (One vs One / Baseline): {relative_error_ratio_baseline_ovo}')\n",
        "\n",
        "# Additional evaluation metrics\n",
        "print(\"One-vs-One Model Classification Report:\")\n",
        "ovo = classification_report(y_test_ovo, y_pred_ovo, target_names=label_encoder.classes_)\n",
        "print(ovo)\n",
        "print(\"One-vs-One Model Confusion Matrix:\")\n",
        "print(confusion_matrix(y_test_ovo, y_pred_ovo))\n",
        "\n",
        "print(\"Model 3: Baseline Model with Crammer and Singer SVM \")\n",
        "# Evaluate the Crammer & Singer model\n",
        "y_pred_cs = best_svm_cs.predict(X_test_cs)\n",
        "accuracy_cs = accuracy_score(y_test_cs, y_pred_cs)\n",
        "error_rate_cs = 1 - accuracy_cs\n",
        "print(f'Crammer & Singer Model Accuracy: {accuracy_cs}')\n",
        "print(f'Crammer & Singer Model Error Rate: {error_rate_cs}')\n",
        "\n",
        "# Calculate the relative error ratio\n",
        "relative_error_ratio_baseline_cs = error_rate_cs / error_rate_base\n",
        "print(f'Relative Error Ratio (Crammer and Singer / Baseline): {relative_error_ratio_baseline_cs}')\n",
        "\n",
        "# Additional evaluation metrics\n",
        "print(\"Crammer & Singer Model Classification Report:\")\n",
        "crammer_singer = classification_report(y_test_cs, y_pred_cs, target_names=label_encoder.classes_)\n",
        "print(crammer_singer)\n",
        "print(\"Crammer & Singer Model Confusion Matrix:\")\n",
        "print(confusion_matrix(y_test_cs, y_pred_cs))\n",
        "\n",
        "print(\"Model 4: Uni-gram + Bi-gram Model with One vs Rest SVM \")\n",
        "# Evaluate the baseline model\n",
        "y_pred_bigram = best_svm_bigram.predict(X_test_bigram)\n",
        "accuracy_bigram = accuracy_score(y_test_bigram, y_pred_bigram)\n",
        "error_rate_bigram = 1 - accuracy_bigram\n",
        "print(f'Unigram + Bigram SVM One vs Rest Model Accuracy: {accuracy_bigram}')\n",
        "print(f'Unigram + Bigram SVM One vs Rest Model Accuracy: {error_rate_bigram}')\n",
        "\n",
        "# Calculate the relative error ratio\n",
        "relative_error_ratio_baseline_bigram = error_rate_bigram / error_rate_base\n",
        "print(f'Relative Error Ratio (Bigram OvR / Baseline): {relative_error_ratio_baseline_bigram}')\n",
        "\n",
        "# Classification report\n",
        "bigram = classification_report(y_test_bigram,y_pred_bigram, target_names=label_encoder.classes_)\n",
        "print(bigram)\n",
        "\n",
        "# Confusion matrix\n",
        "print(confusion_matrix(y_test_bigram,y_pred_bigram))\n",
        "\n",
        "print(\"Model 5: Uni-gram + Bi-gram Model with One vs One SVM \")\n",
        "# Evaluate the baseline model\n",
        "y_pred_bigram = best_svm_bigram_ovo.predict(X_test_bigram)\n",
        "accuracy_bigram_ovo = accuracy_score(y_test_bigram, y_pred_bigram)\n",
        "error_rate_bigram_ovo = 1 - accuracy_bigram_ovo\n",
        "print(f'Unigram + Bigram SVM One vs One Model Accuracy: {accuracy_bigram_ovo}')\n",
        "print(f'Unigram + Bigram SVM One vs One Model Accuracy: {error_rate_bigram_ovo}')\n",
        "\n",
        "# Calculate the relative error ratio\n",
        "relative_error_ratio_baseline_bigram_ovo = error_rate_bigram_ovo / error_rate_base\n",
        "print(f'Relative Error Ratio (Bigram OvO / Baseline): {relative_error_ratio_baseline_bigram_ovo}')\n",
        "\n",
        "# Classification report\n",
        "bigram_ovo = classification_report(y_test_bigram,y_pred_bigram, target_names=label_encoder.classes_)\n",
        "print(bigram_ovo)\n",
        "\n",
        "# Confusion matrix\n",
        "print(confusion_matrix(y_test_bigram,y_pred_bigram))\n",
        "\n",
        "print(\"Model 6: Uni-gram + Bi-gram Model with Crammer and Singer SVM \")\n",
        "# Evaluate the baseline model\n",
        "y_pred_bigram = best_svm_bigram_cs.predict(X_test_bigram)\n",
        "accuracy_bigram_cs = accuracy_score(y_test_bigram, y_pred_bigram)\n",
        "error_rate_bigram_cs = 1 - accuracy_bigram_cs\n",
        "print(f'Unigram + Bigram SVM Crammer and Singer Model Accuracy: {accuracy_bigram_cs}')\n",
        "print(f'Unigram + Bigram SVM Crammer and Singer Model Accuracy: {error_rate_bigram_cs}')\n",
        "\n",
        "# Calculate the relative error ratio\n",
        "relative_error_ratio_baseline_bigram_cs = error_rate_bigram_cs / error_rate_base\n",
        "print(f'Relative Error Ratio (Bigram Crammer and Singer / Baseline): {relative_error_ratio_baseline_bigram_cs}')\n",
        "\n",
        "# Classification report\n",
        "bigram_cs = classification_report(y_test_bigram,y_pred_bigram, target_names=label_encoder.classes_)\n",
        "print(bigram_cs)\n",
        "\n",
        "# Confusion matrix\n",
        "print(confusion_matrix(y_test_bigram,y_pred_bigram))\n",
        "\n",
        "print(\"Model 9: Degree 2 Polynomial Model with OvO SVM \")\n",
        "# Evaluate the poly model\n",
        "y_pred_poly = best_svm_poly_ovo.predict(X_test_poly)\n",
        "accuracy_poly_ovo = accuracy_score(y_test_poly, y_pred_poly)\n",
        "error_rate_poly_ovo = 1 - accuracy_poly_ovo\n",
        "print(f'Polynomial Degree 2 SVM One vs One Model Accuracy: {accuracy_poly_ovo}')\n",
        "print(f'Polynomial Degree 2 SVM One vs One Model Accuracy: {error_rate_poly_ovo}')\n",
        "\n",
        "# Calculate the relative error ratio\n",
        "relative_error_ratio_baseline_poly_ovo = error_rate_poly_ovo / error_rate_base\n",
        "print(f'Relative Error Ratio (Poly OvO / Baseline): {relative_error_ratio_baseline_poly_ovo}')\n",
        "\n",
        "# Classification report\n",
        "poly_ovo = classification_report(y_test_poly,y_pred_poly, target_names=label_encoder.classes_)\n",
        "print(poly_ovo)\n",
        "\n",
        "# Confusion matrix\n",
        "print(confusion_matrix(y_test_poly,y_pred_poly))\n",
        "\n",
        "print(\"Model 8: Degree 2 Polynomial Model with OvR SVM \")\n",
        "# Evaluate the poly model\n",
        "y_pred_poly = best_svm_poly.predict(X_test_poly)\n",
        "accuracy_poly = accuracy_score(y_test_poly, y_pred_poly)\n",
        "error_rate_poly = 1 - accuracy_poly\n",
        "print(f'Polynomial Degree 2 SVM One vs One Model Accuracy: {accuracy_poly}')\n",
        "print(f'Polynomial Degree 2 SVM One vs One Model Accuracy: {error_rate_poly}')\n",
        "\n",
        "# Calculate the relative error ratio\n",
        "relative_error_ratio_baseline_poly = error_rate_poly / error_rate_base\n",
        "print(f'Relative Error Ratio (Poly OvR / Baseline): {relative_error_ratio_baseline_poly}')\n",
        "\n",
        "# Classification report\n",
        "poly = classification_report(y_test_poly,y_pred_poly, target_names=label_encoder.classes_)\n",
        "print(poly)\n",
        "\n",
        "# Confusion matrix\n",
        "print(confusion_matrix(y_test_poly,y_pred_poly))\n",
        "\n",
        "print(\"Model 9: Degree 2 Polynomial Model with Crammer and Singer SVM \")\n",
        "# Evaluate the poly model\n",
        "y_pred_poly = best_svm_poly_cs.predict(X_test_poly)\n",
        "accuracy_poly_cs = accuracy_score(y_test_poly, y_pred_poly)\n",
        "error_rate_poly_cs = 1 - accuracy_poly_cs\n",
        "print(f'Polynomial Degree 2 SVM One vs One Model Accuracy: {accuracy_poly_cs}')\n",
        "print(f'Polynomial Degree 2 SVM One vs One Model Accuracy: {error_rate_poly_cs}')\n",
        "\n",
        "# Calculate the relative error ratio\n",
        "relative_error_ratio_baseline_poly_cs = error_rate_poly_cs / error_rate_base\n",
        "print(f'Relative Error Ratio (Poly Crammer and Singer / Baseline): {relative_error_ratio_baseline_poly_cs}')\n",
        "\n",
        "# Classification report\n",
        "poly_cs = classification_report(y_test_poly,y_pred_poly, target_names=label_encoder.classes_)\n",
        "print(poly_cs)\n",
        "\n",
        "# Confusion matrix\n",
        "print(confusion_matrix(y_test_poly,y_pred_poly))"
      ],
      "metadata": {
        "colab": {
          "base_uri": "https://localhost:8080/"
        },
        "id": "VImTGx8wZUDt",
        "outputId": "fc17e2f1-c9f4-46d4-ded5-5285ca21c609"
      },
      "execution_count": 23,
      "outputs": [
        {
          "output_type": "stream",
          "name": "stdout",
          "text": [
            "Model 0: Baseline Model \n",
            "Baseline Model Accuracy: 0.9315143998897616\n",
            "Baseline Model Error Rate: 0.06848560011023841\n",
            "                                       precision    recall  f1-score   support\n",
            "\n",
            "                              Cameras       0.94      0.93      0.93       392\n",
            "                  Computers & Laptops       0.92      0.89      0.91       594\n",
            "                              Fashion       0.96      0.97      0.96      1204\n",
            "                      Health & Beauty       0.93      0.94      0.93       753\n",
            "                        Home & Living       0.90      0.90      0.90      1237\n",
            "                      Home Appliances       0.91      0.88      0.90       293\n",
            "                    Mobiles & Tablets       0.95      0.96      0.96      1431\n",
            "TV, Audio / Video, Gaming & Wearables       0.85      0.85      0.85       474\n",
            "         Watches Sunglasses Jewellery       0.96      0.96      0.96       879\n",
            "\n",
            "                             accuracy                           0.93      7257\n",
            "                            macro avg       0.92      0.92      0.92      7257\n",
            "                         weighted avg       0.93      0.93      0.93      7257\n",
            "\n",
            "[[ 363    5    2    1    5    0    9    5    2]\n",
            " [   5  530    0    3   16    0   18   22    0]\n",
            " [   0    1 1166   10   13    0    3    1   10]\n",
            " [   0    0   11  706   29    3    2    1    1]\n",
            " [   8    5   24   33 1112   20   11   13   11]\n",
            " [   0    1    1    2   25  259    3    1    1]\n",
            " [   6   16    2    2    7    0 1376   22    0]\n",
            " [   5   17    1    2   15    2   20  403    9]\n",
            " [   0    1    9    3   14    0    2    5  845]]\n",
            "Model 1: Baseline Model with Stop Word Removal and Stemmed Text \n",
            "Second Model Accuracy: 0.9298608240319691\n",
            "Second Model Error Rate: 0.07013917596803088\n",
            "Relative Error Ratio (One vs Rest / Baseline): 1.0241448692152917\n",
            "Second Model Classification Report:\n",
            "                                       precision    recall  f1-score   support\n",
            "\n",
            "                              Cameras       0.93      0.93      0.93       392\n",
            "                  Computers & Laptops       0.92      0.89      0.90       594\n",
            "                              Fashion       0.95      0.96      0.96      1204\n",
            "                      Health & Beauty       0.92      0.94      0.93       753\n",
            "                        Home & Living       0.90      0.89      0.90      1237\n",
            "                      Home Appliances       0.91      0.88      0.89       293\n",
            "                    Mobiles & Tablets       0.95      0.96      0.96      1431\n",
            "TV, Audio / Video, Gaming & Wearables       0.85      0.85      0.85       474\n",
            "         Watches Sunglasses Jewellery       0.96      0.96      0.96       879\n",
            "\n",
            "                             accuracy                           0.93      7257\n",
            "                            macro avg       0.92      0.92      0.92      7257\n",
            "                         weighted avg       0.93      0.93      0.93      7257\n",
            "\n",
            "Second Model Confusion Matrix:\n",
            "[[ 363    5    1    2    6    2    7    4    2]\n",
            " [   5  527    1    3   13    0   22   23    0]\n",
            " [   0    1 1160   10   16    0    4    1   12]\n",
            " [   0    0   15  710   23    1    2    2    0]\n",
            " [  10    4   29   39 1100   23    8   15    9]\n",
            " [   0    1    0    2   25  259    3    2    1]\n",
            " [   7   17    2    1    6    0 1377   21    0]\n",
            " [   6   19    1    1   12    1   20  404   10]\n",
            " [   0    1    8    4   15    0    0    3  848]]\n",
            "Model 2: Baseline Model with One vs One SVM \n",
            "One-vs-One Model Accuracy: 0.7058012953010886\n",
            "One-vs-One Model Error Rate: 0.2941987046989114\n",
            "Relative Error Ratio (One vs One / Baseline): 4.295774647887323\n",
            "One-vs-One Model Classification Report:\n",
            "                                       precision    recall  f1-score   support\n",
            "\n",
            "                              Cameras       0.94      0.53      0.68       392\n",
            "                  Computers & Laptops       0.94      0.55      0.69       594\n",
            "                              Fashion       0.93      0.77      0.84      1204\n",
            "                      Health & Beauty       0.91      0.39      0.55       753\n",
            "                        Home & Living       0.40      0.97      0.57      1237\n",
            "                      Home Appliances       1.00      0.01      0.02       293\n",
            "                    Mobiles & Tablets       0.87      0.90      0.88      1431\n",
            "TV, Audio / Video, Gaming & Wearables       0.89      0.38      0.54       474\n",
            "         Watches Sunglasses Jewellery       0.97      0.79      0.87       879\n",
            "\n",
            "                             accuracy                           0.71      7257\n",
            "                            macro avg       0.87      0.59      0.63      7257\n",
            "                         weighted avg       0.83      0.71      0.70      7257\n",
            "\n",
            "One-vs-One Model Confusion Matrix:\n",
            "[[ 209    5    3    1  129    0   44    1    0]\n",
            " [   2  324    0    0  196    0   57   15    0]\n",
            " [   0    0  927    8  262    0    4    0    3]\n",
            " [   0    0   16  295  437    0    2    2    1]\n",
            " [   2    2    8    7 1201    0   16    0    1]\n",
            " [   1    2    0    3  281    3    3    0    0]\n",
            " [   4    4    0    6  124    0 1289    4    0]\n",
            " [   5    5    2    0  198    0   66  182   16]\n",
            " [   0    1   39    3  138    0    5    1  692]]\n",
            "Model 3: Baseline Model with Crammer and Singer SVM \n",
            "Crammer & Singer Model Accuracy: 0.9298608240319691\n",
            "Crammer & Singer Model Error Rate: 0.07013917596803088\n",
            "Relative Error Ratio (Crammer and Singer / Baseline): 1.0241448692152917\n",
            "Crammer & Singer Model Classification Report:\n",
            "                                       precision    recall  f1-score   support\n",
            "\n",
            "                              Cameras       0.94      0.92      0.93       392\n",
            "                  Computers & Laptops       0.93      0.89      0.91       594\n",
            "                              Fashion       0.96      0.97      0.96      1204\n",
            "                      Health & Beauty       0.91      0.94      0.93       753\n",
            "                        Home & Living       0.91      0.89      0.90      1237\n",
            "                      Home Appliances       0.89      0.88      0.88       293\n",
            "                    Mobiles & Tablets       0.95      0.96      0.96      1431\n",
            "TV, Audio / Video, Gaming & Wearables       0.84      0.86      0.85       474\n",
            "         Watches Sunglasses Jewellery       0.96      0.96      0.96       879\n",
            "\n",
            "                             accuracy                           0.93      7257\n",
            "                            macro avg       0.92      0.92      0.92      7257\n",
            "                         weighted avg       0.93      0.93      0.93      7257\n",
            "\n",
            "Crammer & Singer Model Confusion Matrix:\n",
            "[[ 362    5    1    1    5    2    7    7    2]\n",
            " [   4  531    2    3   14    0   18   22    0]\n",
            " [   0    1 1162    9   12    0    6    1   13]\n",
            " [   0    0   11  707   27    3    2    2    1]\n",
            " [   6    5   25   38 1100   25   13   13   12]\n",
            " [   0    1    1    3   26  257    3    1    1]\n",
            " [   7   14    2    4    6    0 1372   26    0]\n",
            " [   6   16    1    4   13    2   19  409    4]\n",
            " [   0    1   10    4   12    0    0    4  848]]\n",
            "Model 4: Uni-gram + Bi-gram Model with One vs Rest SVM \n",
            "Unigram + Bigram SVM One vs Rest Model Accuracy: 0.9374397133801846\n",
            "Unigram + Bigram SVM One vs Rest Model Accuracy: 0.06256028661981539\n",
            "Relative Error Ratio (Bigram OvR / Baseline): 0.9134808853118715\n",
            "                                       precision    recall  f1-score   support\n",
            "\n",
            "                              Cameras       0.95      0.94      0.94       392\n",
            "                  Computers & Laptops       0.94      0.90      0.92       594\n",
            "                              Fashion       0.97      0.97      0.97      1204\n",
            "                      Health & Beauty       0.93      0.94      0.93       753\n",
            "                        Home & Living       0.89      0.92      0.90      1237\n",
            "                      Home Appliances       0.93      0.85      0.89       293\n",
            "                    Mobiles & Tablets       0.96      0.97      0.96      1431\n",
            "TV, Audio / Video, Gaming & Wearables       0.88      0.86      0.87       474\n",
            "         Watches Sunglasses Jewellery       0.97      0.96      0.97       879\n",
            "\n",
            "                             accuracy                           0.94      7257\n",
            "                            macro avg       0.93      0.92      0.93      7257\n",
            "                         weighted avg       0.94      0.94      0.94      7257\n",
            "\n",
            "[[ 367    3    0    1    5    0    9    4    3]\n",
            " [   4  537    0    2   16    0   19   16    0]\n",
            " [   0    1 1167    8   13    0    4    1   10]\n",
            " [   0    1   11  705   32    1    2    1    0]\n",
            " [   5    3   18   30 1136   18    7   11    9]\n",
            " [   0    1    0    2   37  249    2    1    1]\n",
            " [   4   11    2    1    8    0 1384   20    1]\n",
            " [   5   13    1    3   18    1   18  410    5]\n",
            " [   0    1   10    4   12    0    1    3  848]]\n",
            "Model 5: Uni-gram + Bi-gram Model with One vs One SVM \n",
            "Unigram + Bigram SVM One vs One Model Accuracy: 0.43654402645721374\n",
            "Unigram + Bigram SVM One vs One Model Accuracy: 0.5634559735427862\n",
            "Relative Error Ratio (Bigram OvO / Baseline): 8.22736418511066\n",
            "                                       precision    recall  f1-score   support\n",
            "\n",
            "                              Cameras       1.00      0.00      0.01       392\n",
            "                  Computers & Laptops       0.99      0.12      0.21       594\n",
            "                              Fashion       0.94      0.41      0.57      1204\n",
            "                      Health & Beauty       1.00      0.00      0.00       753\n",
            "                        Home & Living       0.24      1.00      0.38      1237\n",
            "                      Home Appliances       0.00      0.00      0.00       293\n",
            "                    Mobiles & Tablets       0.93      0.80      0.86      1431\n",
            "TV, Audio / Video, Gaming & Wearables       1.00      0.01      0.02       474\n",
            "         Watches Sunglasses Jewellery       0.99      0.25      0.40       879\n",
            "\n",
            "                             accuracy                           0.44      7257\n",
            "                            macro avg       0.79      0.29      0.27      7257\n",
            "                         weighted avg       0.80      0.44      0.40      7257\n",
            "\n",
            "[[   1    0    1    0  376    0   14    0    0]\n",
            " [   0   70    0    0  490    0   34    0    0]\n",
            " [   0    0  488    0  715    0    1    0    0]\n",
            " [   0    0    0    1  752    0    0    0    0]\n",
            " [   0    0    0    0 1235    0    2    0    0]\n",
            " [   0    0    0    0  293    0    0    0    0]\n",
            " [   0    1    0    0  281    0 1149    0    0]\n",
            " [   0    0    0    0  438    0   28    5    3]\n",
            " [   0    0   29    0  627    0    4    0  219]]\n",
            "Model 6: Uni-gram + Bi-gram Model with Crammer and Singer SVM \n",
            "Unigram + Bigram SVM Crammer and Singer Model Accuracy: 0.9396444811905746\n",
            "Unigram + Bigram SVM Crammer and Singer Model Accuracy: 0.06035551880942536\n",
            "Relative Error Ratio (Bigram Crammer and Singer / Baseline): 0.8812877263581482\n",
            "                                       precision    recall  f1-score   support\n",
            "\n",
            "                              Cameras       0.95      0.94      0.95       392\n",
            "                  Computers & Laptops       0.94      0.90      0.92       594\n",
            "                              Fashion       0.97      0.97      0.97      1204\n",
            "                      Health & Beauty       0.94      0.95      0.94       753\n",
            "                        Home & Living       0.90      0.92      0.91      1237\n",
            "                      Home Appliances       0.93      0.85      0.89       293\n",
            "                    Mobiles & Tablets       0.96      0.97      0.96      1431\n",
            "TV, Audio / Video, Gaming & Wearables       0.87      0.87      0.87       474\n",
            "         Watches Sunglasses Jewellery       0.97      0.97      0.97       879\n",
            "\n",
            "                             accuracy                           0.94      7257\n",
            "                            macro avg       0.94      0.93      0.93      7257\n",
            "                         weighted avg       0.94      0.94      0.94      7257\n",
            "\n",
            "[[ 368    3    0    1    4    0    8    5    3]\n",
            " [   4  536    0    2   16    0   18   18    0]\n",
            " [   0    1 1167    8   13    0    4    1   10]\n",
            " [   0    1   11  712   25    1    2    1    0]\n",
            " [   4    3   16   27 1139   18    8   12   10]\n",
            " [   0    1    0    2   36  250    2    1    1]\n",
            " [   5   11    2    0    8    0 1384   20    1]\n",
            " [   5   13    1    3   17    0   17  414    4]\n",
            " [   0    1   10    3   12    0    0    4  849]]\n",
            "Model 9: Degree 2 Polynomial Model with OvO SVM \n"
          ]
        },
        {
          "output_type": "stream",
          "name": "stderr",
          "text": [
            "/usr/local/lib/python3.10/dist-packages/sklearn/metrics/_classification.py:1344: UndefinedMetricWarning: Precision and F-score are ill-defined and being set to 0.0 in labels with no predicted samples. Use `zero_division` parameter to control this behavior.\n",
            "  _warn_prf(average, modifier, msg_start, len(result))\n",
            "/usr/local/lib/python3.10/dist-packages/sklearn/metrics/_classification.py:1344: UndefinedMetricWarning: Precision and F-score are ill-defined and being set to 0.0 in labels with no predicted samples. Use `zero_division` parameter to control this behavior.\n",
            "  _warn_prf(average, modifier, msg_start, len(result))\n",
            "/usr/local/lib/python3.10/dist-packages/sklearn/metrics/_classification.py:1344: UndefinedMetricWarning: Precision and F-score are ill-defined and being set to 0.0 in labels with no predicted samples. Use `zero_division` parameter to control this behavior.\n",
            "  _warn_prf(average, modifier, msg_start, len(result))\n"
          ]
        },
        {
          "output_type": "stream",
          "name": "stdout",
          "text": [
            "Polynomial Degree 2 SVM One vs One Model Accuracy: 0.7075926691470305\n",
            "Polynomial Degree 2 SVM One vs One Model Accuracy: 0.29240733085296955\n",
            "Relative Error Ratio (Poly OvO / Baseline): 4.269617706237423\n",
            "                                       precision    recall  f1-score   support\n",
            "\n",
            "                              Cameras       0.93      0.59      0.72       392\n",
            "                  Computers & Laptops       0.94      0.58      0.72       594\n",
            "                              Fashion       0.94      0.76      0.84      1204\n",
            "                      Health & Beauty       0.96      0.31      0.47       753\n",
            "                        Home & Living       0.40      0.97      0.57      1237\n",
            "                      Home Appliances       1.00      0.00      0.01       293\n",
            "                    Mobiles & Tablets       0.88      0.90      0.89      1431\n",
            "TV, Audio / Video, Gaming & Wearables       0.88      0.45      0.60       474\n",
            "         Watches Sunglasses Jewellery       0.97      0.80      0.88       879\n",
            "\n",
            "                             accuracy                           0.71      7257\n",
            "                            macro avg       0.88      0.60      0.63      7257\n",
            "                         weighted avg       0.84      0.71      0.70      7257\n",
            "\n",
            "[[ 230    4    2    0  120    0   35    1    0]\n",
            " [   2  342    0    1  183    0   50   16    0]\n",
            " [   0    0  920    3  270    0    7    1    3]\n",
            " [   0    0   17  231  500    0    3    2    0]\n",
            " [   3    3   10    1 1205    0   14    0    1]\n",
            " [   1    3    0    0  286    1    2    0    0]\n",
            " [   6    2    1    0  125    0 1290    7    0]\n",
            " [   5    7    1    1  173    0   55  215   17]\n",
            " [   0    1   28    3  140    0    5    1  701]]\n",
            "Model 8: Degree 2 Polynomial Model with OvR SVM \n",
            "Polynomial Degree 2 SVM One vs One Model Accuracy: 0.9312388039134628\n",
            "Polynomial Degree 2 SVM One vs One Model Accuracy: 0.06876119608653719\n",
            "Relative Error Ratio (Poly OvR / Baseline): 1.0040241448692158\n",
            "                                       precision    recall  f1-score   support\n",
            "\n",
            "                              Cameras       0.94      0.93      0.93       392\n",
            "                  Computers & Laptops       0.92      0.89      0.91       594\n",
            "                              Fashion       0.96      0.97      0.96      1204\n",
            "                      Health & Beauty       0.93      0.94      0.93       753\n",
            "                        Home & Living       0.90      0.90      0.90      1237\n",
            "                      Home Appliances       0.91      0.87      0.89       293\n",
            "                    Mobiles & Tablets       0.95      0.96      0.96      1431\n",
            "TV, Audio / Video, Gaming & Wearables       0.85      0.85      0.85       474\n",
            "         Watches Sunglasses Jewellery       0.96      0.96      0.96       879\n",
            "\n",
            "                             accuracy                           0.93      7257\n",
            "                            macro avg       0.92      0.92      0.92      7257\n",
            "                         weighted avg       0.93      0.93      0.93      7257\n",
            "\n",
            "[[ 363    5    1    1    4    0   10    5    3]\n",
            " [   4  529    0    3   15    0   21   22    0]\n",
            " [   0    1 1164    9   14    0    5    1   10]\n",
            " [   0    0   12  706   29    1    3    1    1]\n",
            " [   7    5   21   32 1115   22   10   13   12]\n",
            " [   0    1    1    2   30  254    3    1    1]\n",
            " [   6   13    2    1    8    0 1376   24    1]\n",
            " [   6   18    1    1   16    1   19  405    7]\n",
            " [   0    2   11    4   11    0    0    5  846]]\n",
            "Model 9: Degree 2 Polynomial Model with Crammer and Singer SVM \n",
            "Polynomial Degree 2 SVM One vs One Model Accuracy: 0.9323411878186578\n",
            "Polynomial Degree 2 SVM One vs One Model Accuracy: 0.06765881218134218\n",
            "Relative Error Ratio (Poly Crammer and Singer / Baseline): 0.9879275653923542\n",
            "                                       precision    recall  f1-score   support\n",
            "\n",
            "                              Cameras       0.95      0.93      0.94       392\n",
            "                  Computers & Laptops       0.92      0.89      0.90       594\n",
            "                              Fashion       0.96      0.97      0.96      1204\n",
            "                      Health & Beauty       0.92      0.94      0.93       753\n",
            "                        Home & Living       0.91      0.90      0.90      1237\n",
            "                      Home Appliances       0.90      0.87      0.89       293\n",
            "                    Mobiles & Tablets       0.95      0.96      0.96      1431\n",
            "TV, Audio / Video, Gaming & Wearables       0.85      0.86      0.86       474\n",
            "         Watches Sunglasses Jewellery       0.96      0.96      0.96       879\n",
            "\n",
            "                             accuracy                           0.93      7257\n",
            "                            macro avg       0.92      0.92      0.92      7257\n",
            "                         weighted avg       0.93      0.93      0.93      7257\n",
            "\n",
            "[[ 364    7    0    1    4    2    7    5    2]\n",
            " [   4  528    1    3   14    0   22   22    0]\n",
            " [   1    1 1162    9   13    0    5    1   12]\n",
            " [   0    0   12  710   25    2    2    1    1]\n",
            " [   5    5   23   34 1114   22   10   14   10]\n",
            " [   0    1    2    2   29  254    3    1    1]\n",
            " [   6   11    2    1    7    0 1379   25    0]\n",
            " [   5   18    0    3   12    1   17  410    8]\n",
            " [   0    2   10    6   10    0    0    6  845]]\n"
          ]
        }
      ]
    },
    {
      "cell_type": "code",
      "source": [
        "print(f'Relative Error Ratio (One vs Rest / Baseline): {relative_error_ratio_baseline_stemmed}')\n",
        "print(f'Relative Error Ratio (One vs One / Baseline): {relative_error_ratio_baseline_ovo}')\n",
        "print(f'Relative Error Ratio (Crammer and Singer / Baseline): {relative_error_ratio_baseline_cs}')\n",
        "print(f'Relative Error Ratio (Bigram OvR / Baseline): {relative_error_ratio_baseline_bigram}')\n",
        "print(f'Relative Error Ratio (Bigram OvO / Baseline): {relative_error_ratio_baseline_bigram_ovo}')\n",
        "print(f'Relative Error Ratio (Bigram Crammer and Singer / Baseline): {relative_error_ratio_baseline_bigram_cs}')\n",
        "print(f'Relative Error Ratio (Poly OvO / Baseline): {relative_error_ratio_baseline_poly_ovo}')\n",
        "print(f'Relative Error Ratio (Poly OvR / Baseline): {relative_error_ratio_baseline_poly}')\n",
        "print(f'Relative Error Ratio (Poly Crammer and Singer / Baseline): {relative_error_ratio_baseline_poly_cs}')\n"
      ],
      "metadata": {
        "colab": {
          "base_uri": "https://localhost:8080/"
        },
        "id": "xrAufH77fyRy",
        "outputId": "1ccb9d9e-1d29-460b-9872-f18417abc6fe"
      },
      "execution_count": 24,
      "outputs": [
        {
          "output_type": "stream",
          "name": "stdout",
          "text": [
            "Relative Error Ratio (One vs Rest / Baseline): 1.0241448692152917\n",
            "Relative Error Ratio (One vs One / Baseline): 4.295774647887323\n",
            "Relative Error Ratio (Crammer and Singer / Baseline): 1.0241448692152917\n",
            "Relative Error Ratio (Bigram OvR / Baseline): 0.9134808853118715\n",
            "Relative Error Ratio (Bigram OvO / Baseline): 8.22736418511066\n",
            "Relative Error Ratio (Bigram Crammer and Singer / Baseline): 0.8812877263581482\n",
            "Relative Error Ratio (Poly OvO / Baseline): 4.269617706237423\n",
            "Relative Error Ratio (Poly OvR / Baseline): 1.0040241448692158\n",
            "Relative Error Ratio (Poly Crammer and Singer / Baseline): 0.9879275653923542\n"
          ]
        }
      ]
    },
    {
      "cell_type": "code",
      "execution_count": 25,
      "metadata": {
        "id": "8ybj2t83tc6d"
      },
      "outputs": [],
      "source": [
        "# title_input = input(\"Enter product title: \")\n",
        "# title_input_list = [title_input]\n",
        "# X = vectorizer.transform(title_input_list)\n",
        "# y_pred = best_svm.predict(X)\n",
        "# predicted_label = label_encoder.inverse_transform(y_pred)\n",
        "# print(predicted_label)\n"
      ]
    }
  ],
  "metadata": {
    "accelerator": "TPU",
    "colab": {
      "gpuType": "V28",
      "provenance": []
    },
    "kernelspec": {
      "display_name": "Python 3",
      "name": "python3"
    },
    "language_info": {
      "codemirror_mode": {
        "name": "ipython",
        "version": 3
      },
      "file_extension": ".py",
      "mimetype": "text/x-python",
      "name": "python",
      "nbconvert_exporter": "python",
      "pygments_lexer": "ipython3",
      "version": "3.12.2"
    }
  },
  "nbformat": 4,
  "nbformat_minor": 0
}